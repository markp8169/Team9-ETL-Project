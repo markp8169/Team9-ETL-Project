{
 "cells": [
  {
   "cell_type": "code",
   "execution_count": null,
   "metadata": {},
   "outputs": [],
   "source": [
    "#Dependancies\n",
    "import pandas as pd\n",
    "import numpy as np\n",
    "#import matplotlib.pyplot as plt\n",
    "\n",
    "from sqlalchemy import create_engine\n",
    "\n",
    "# PyMySQL \n",
    "import pymysql\n",
    "pymysql.install_as_MySQLdb()\n",
    "import requests\n",
    "#import time\n",
    "import json"
   ]
  },
  {
   "cell_type": "code",
   "execution_count": null,
   "metadata": {},
   "outputs": [],
   "source": [
    "#Reading in the files\n",
    "\n",
    "#Creates two variables containing the locations of each csv\n",
    "csvpath = \"csvFiles/HealthViolations.csv\"\n",
    "csvHealthViolations = pd.read_csv(csvpath)\n",
    "csvHealthViolations.head()\n"
   ]
  },
  {
   "cell_type": "code",
   "execution_count": null,
   "metadata": {},
   "outputs": [],
   "source": [
    "#csvHealthViolations.dtypes"
   ]
  },
  {
   "cell_type": "code",
   "execution_count": null,
   "metadata": {
    "scrolled": true
   },
   "outputs": [],
   "source": [
    "csvHealthViolations.drop_duplicates(\"serial_number\", inplace=True)\n",
    "#reset index\n",
    "csvHealthViolations = csvHealthViolations.reset_index()\n",
    "\n",
    "csvHealthViolations['id'] = csvHealthViolations.index\n",
    "#csvHealthViolations_cols = [\"facility_name\", \"serial_number\", \"score\", \"violation_description\"]\n",
    "#healthViolations_transformed= csvHealthViolations[csvHealthViolations_cols].copy()\n",
    "\n",
    "#healthViolations_transformed = healthViolations_transformed.rename(columns={\"facility_name\": \"Facility_Name\",\n",
    "#                                                                           \"serial_number\": \"ID\",\n",
    "#                                                                           \"score\": \"Score\",\n",
    "#                                                                           \"violation_description\": \"Violation_Description\"})\n",
    "\n",
    "#healthViolations_transformed.set_index(\"serial_number\", inplace=True)\n",
    "\n",
    "csvHealthViolations.head()"
   ]
  },
  {
   "cell_type": "code",
   "execution_count": null,
   "metadata": {},
   "outputs": [],
   "source": [
    "csvHealthViolations = csvHealthViolations[[\"level_0\", \"serial_number\", \"facility_name\", \"score\", \"violation_description\"]]\n",
    "\n",
    "csvHealthViolations.set_index(\"level_0\", inplace=True)\n",
    "\n",
    "csvHealthViolations.head(2)\n",
    "\n",
    "#healthViolations_transformed.to_csv(\"healthViolations.csv\", index=False, header=True)\n",
    "\n",
    "\n",
    "#csvHealthViolations_groupby = healthViolations_transformed.groupby([\"facility_id\", \"facility_name\", \"score\", \"violation_description\"])\n",
    "\n",
    "#csvHealthViolations_groupby.all()\n"
   ]
  },
  {
   "cell_type": "code",
   "execution_count": null,
   "metadata": {},
   "outputs": [],
   "source": [
    "#csvHealthViolations_groupby.to_csv('Health_Violations.csv')"
   ]
  },
  {
   "cell_type": "code",
   "execution_count": null,
   "metadata": {
    "scrolled": true
   },
   "outputs": [],
   "source": [
    "#read in json\n",
    "data = json.load(open('jsonFiles/Inspections.json'))\n",
    "\n",
    "inspections_df = pd.DataFrame(data[\"data\"])\n",
    "inspections_df.head()"
   ]
  },
  {
   "cell_type": "code",
   "execution_count": null,
   "metadata": {},
   "outputs": [],
   "source": [
    "rename_inspections_df = inspections_df.rename(columns={26: \"serial_number\", 23: \"service_description\"})\n",
    "\n",
    "rename_inspections_df"
   ]
  },
  {
   "cell_type": "code",
   "execution_count": null,
   "metadata": {},
   "outputs": [],
   "source": [
    "new_rename_inspections_df = rename_inspections_df[[\"serial_number\", \"service_description\"]].copy()\n",
    "new_rename_inspections_df.drop_duplicates(\"serial_number\", inplace=True)\n",
    "new_rename_inspections_df.head()"
   ]
  },
  {
   "cell_type": "code",
   "execution_count": null,
   "metadata": {
    "scrolled": true
   },
   "outputs": [],
   "source": [
    "new_rename_inspections_df.to_csv(\"inspections.csv\", index=False, header=True)\n",
    "\n",
    "#new_rename_inspections_df_groupby = new_rename_inspections_df.groupby([\"facility_id\", \"service_description\"])\n",
    "\n",
    "#new_rename_inspections_df_groupby.all()"
   ]
  },
  {
   "cell_type": "code",
   "execution_count": null,
   "metadata": {},
   "outputs": [],
   "source": [
    "#rds_connection_string = \"root:Mario#5@127.0.0.1/restaurant_db\"\n",
    "#engine = create_engine(f'mysql://{rds_connection_string}')"
   ]
  },
  {
   "cell_type": "code",
   "execution_count": null,
   "metadata": {},
   "outputs": [],
   "source": [
    "#engine.table_names()"
   ]
  },
  {
   "cell_type": "code",
   "execution_count": null,
   "metadata": {},
   "outputs": [],
   "source": [
    "#csvHealthViolations_groupby.to_sql(name='violations',\\\n",
    "#                           con=engine, if_exists='replace', index=True)"
   ]
  },
  {
   "cell_type": "code",
   "execution_count": null,
   "metadata": {},
   "outputs": [],
   "source": [
    "#new_rename_inspections_df.to_sql(name='inspections',\\\n",
    "#                          con=engine, if_exists='replace', index=True)"
   ]
  }
 ],
 "metadata": {
  "kernelspec": {
   "display_name": "Python 3",
   "language": "python",
   "name": "python3"
  },
  "language_info": {
   "codemirror_mode": {
    "name": "ipython",
    "version": 3
   },
   "file_extension": ".py",
   "mimetype": "text/x-python",
   "name": "python",
   "nbconvert_exporter": "python",
   "pygments_lexer": "ipython3",
   "version": "3.6.5"
  }
 },
 "nbformat": 4,
 "nbformat_minor": 2
}
